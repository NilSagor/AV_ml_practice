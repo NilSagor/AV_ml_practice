{
 "cells": [
  {
   "cell_type": "code",
   "execution_count": 1,
   "metadata": {},
   "outputs": [
    {
     "name": "stderr",
     "output_type": "stream",
     "text": [
      "/home/nil/.local/lib/python3.6/site-packages/tensorflow/python/framework/dtypes.py:516: FutureWarning: Passing (type, 1) or '1type' as a synonym of type is deprecated; in a future version of numpy, it will be understood as (type, (1,)) / '(1,)type'.\n",
      "  _np_qint8 = np.dtype([(\"qint8\", np.int8, 1)])\n",
      "/home/nil/.local/lib/python3.6/site-packages/tensorflow/python/framework/dtypes.py:517: FutureWarning: Passing (type, 1) or '1type' as a synonym of type is deprecated; in a future version of numpy, it will be understood as (type, (1,)) / '(1,)type'.\n",
      "  _np_quint8 = np.dtype([(\"quint8\", np.uint8, 1)])\n",
      "/home/nil/.local/lib/python3.6/site-packages/tensorflow/python/framework/dtypes.py:518: FutureWarning: Passing (type, 1) or '1type' as a synonym of type is deprecated; in a future version of numpy, it will be understood as (type, (1,)) / '(1,)type'.\n",
      "  _np_qint16 = np.dtype([(\"qint16\", np.int16, 1)])\n",
      "/home/nil/.local/lib/python3.6/site-packages/tensorflow/python/framework/dtypes.py:519: FutureWarning: Passing (type, 1) or '1type' as a synonym of type is deprecated; in a future version of numpy, it will be understood as (type, (1,)) / '(1,)type'.\n",
      "  _np_quint16 = np.dtype([(\"quint16\", np.uint16, 1)])\n",
      "/home/nil/.local/lib/python3.6/site-packages/tensorflow/python/framework/dtypes.py:520: FutureWarning: Passing (type, 1) or '1type' as a synonym of type is deprecated; in a future version of numpy, it will be understood as (type, (1,)) / '(1,)type'.\n",
      "  _np_qint32 = np.dtype([(\"qint32\", np.int32, 1)])\n",
      "/home/nil/.local/lib/python3.6/site-packages/tensorflow/python/framework/dtypes.py:525: FutureWarning: Passing (type, 1) or '1type' as a synonym of type is deprecated; in a future version of numpy, it will be understood as (type, (1,)) / '(1,)type'.\n",
      "  np_resource = np.dtype([(\"resource\", np.ubyte, 1)])\n",
      "/home/nil/.local/lib/python3.6/site-packages/tensorboard/compat/tensorflow_stub/dtypes.py:541: FutureWarning: Passing (type, 1) or '1type' as a synonym of type is deprecated; in a future version of numpy, it will be understood as (type, (1,)) / '(1,)type'.\n",
      "  _np_qint8 = np.dtype([(\"qint8\", np.int8, 1)])\n",
      "/home/nil/.local/lib/python3.6/site-packages/tensorboard/compat/tensorflow_stub/dtypes.py:542: FutureWarning: Passing (type, 1) or '1type' as a synonym of type is deprecated; in a future version of numpy, it will be understood as (type, (1,)) / '(1,)type'.\n",
      "  _np_quint8 = np.dtype([(\"quint8\", np.uint8, 1)])\n",
      "/home/nil/.local/lib/python3.6/site-packages/tensorboard/compat/tensorflow_stub/dtypes.py:543: FutureWarning: Passing (type, 1) or '1type' as a synonym of type is deprecated; in a future version of numpy, it will be understood as (type, (1,)) / '(1,)type'.\n",
      "  _np_qint16 = np.dtype([(\"qint16\", np.int16, 1)])\n",
      "/home/nil/.local/lib/python3.6/site-packages/tensorboard/compat/tensorflow_stub/dtypes.py:544: FutureWarning: Passing (type, 1) or '1type' as a synonym of type is deprecated; in a future version of numpy, it will be understood as (type, (1,)) / '(1,)type'.\n",
      "  _np_quint16 = np.dtype([(\"quint16\", np.uint16, 1)])\n",
      "/home/nil/.local/lib/python3.6/site-packages/tensorboard/compat/tensorflow_stub/dtypes.py:545: FutureWarning: Passing (type, 1) or '1type' as a synonym of type is deprecated; in a future version of numpy, it will be understood as (type, (1,)) / '(1,)type'.\n",
      "  _np_qint32 = np.dtype([(\"qint32\", np.int32, 1)])\n",
      "/home/nil/.local/lib/python3.6/site-packages/tensorboard/compat/tensorflow_stub/dtypes.py:550: FutureWarning: Passing (type, 1) or '1type' as a synonym of type is deprecated; in a future version of numpy, it will be understood as (type, (1,)) / '(1,)type'.\n",
      "  np_resource = np.dtype([(\"resource\", np.ubyte, 1)])\n"
     ]
    }
   ],
   "source": [
    "import numpy as np\n",
    "import tensorflow as tf\n",
    "import matplotlib.pyplot as plt\n",
    "import warnings\n",
    "warnings.filterwarnings('ignore')\n",
    "\n",
    "import os\n",
    "os.environ['TF_CPP_MIN_LOG_LEVEL'] = '2'"
   ]
  },
  {
   "cell_type": "code",
   "execution_count": 2,
   "metadata": {},
   "outputs": [
    {
     "data": {
      "image/png": "[encoded data removed]",
      "text/plain": [
       "<Figure size 432x288 with 1 Axes>"
      ]
     },
     "metadata": {
      "needs_background": "light"
     },
     "output_type": "display_data"
    }
   ],
   "source": [
    "# let's create some toy data\n",
    "plt.ion()\n",
    "n_observations = 100\n",
    "fig, ax = plt.subplots(1,1)\n",
    "xs = np.linspace(-3, 3, n_observations)\n",
    "ys = np.sin(xs) + np.random.uniform(-0.5, .5, n_observations)\n",
    "ax.scatter(xs, ys)\n",
    "fig.show()\n",
    "plt.draw()"
   ]
  },
  {
   "cell_type": "code",
   "execution_count": 3,
   "metadata": {},
   "outputs": [],
   "source": [
    "#tf.placeholders:\n",
    "# for the input and output of the network.\n",
    "# placeholders are variables which we need to fill in when we are ready to compute the graph\n",
    "X = tf.placeholder(tf.float32)\n",
    "Y = tf.placeholder(tf.float32)"
   ]
  },
  {
   "cell_type": "code",
   "execution_count": 4,
   "metadata": {},
   "outputs": [],
   "source": [
    "W = tf.Variable(tf.random_normal([1]), name = 'weight')\n",
    "b = tf.Variable(tf.random_normal([1]), name = 'bias')\n",
    "y_pred = tf.add(tf.multiply(X,W), b)"
   ]
  },
  {
   "cell_type": "code",
   "execution_count": 5,
   "metadata": {},
   "outputs": [],
   "source": [
    "# loss function will measure the distance between our observations and predictions and average over them\n",
    "cost = tf.reduce_sum(tf.pow(y_pred -Y, 2)) / (n_observations - 1)"
   ]
  },
  {
   "cell_type": "code",
   "execution_count": 6,
   "metadata": {},
   "outputs": [
    {
     "name": "stderr",
     "output_type": "stream",
     "text": [
      "WARNING: Logging before flag parsing goes to stderr.\n",
      "W0803 20:43:07.716737 140505514452800 deprecation.py:323] From /home/nil/.local/lib/python3.6/site-packages/tensorflow/python/ops/math_grad.py:1205: add_dispatch_support.<locals>.wrapper (from tensorflow.python.ops.array_ops) is deprecated and will be removed in a future version.\n",
      "Instructions for updating:\n",
      "Use tf.where in 2.0, which has the same broadcast rule as np.where\n"
     ]
    }
   ],
   "source": [
    "# using gradient descent to optimize W, b performs a single step in the negative  gradient\n",
    "learning_rate = 0.01\n",
    "optimizer = tf.compat.v1.train.GradientDescentOptimizer(learning_rate).minimize(cost)"
   ]
  },
  {
   "cell_type": "code",
   "execution_count": null,
   "metadata": {},
   "outputs": [
    {
     "name": "stdout",
     "output_type": "stream",
     "text": [
      "1.7781955\n",
      "1.6075608\n",
      "1.4567071\n",
      "1.3233336\n",
      "1.2054088\n",
      "1.1011375\n",
      "1.008933\n",
      "0.9273927\n",
      "0.8552782\n",
      "0.7914945\n",
      "0.73507434\n",
      "0.6851626\n",
      "0.64100385\n",
      "0.60193056\n",
      "0.56735265\n",
      "0.536749\n",
      "0.50965875\n",
      "0.48567468\n",
      "0.4644369\n",
      "0.4456275\n",
      "0.4289654\n",
      "0.41420218\n",
      "0.40111834\n",
      "0.38952005\n",
      "0.37923542\n",
      "0.3701132\n",
      "0.36201912\n",
      "0.35483488\n",
      "0.34845588\n",
      "0.34278935\n",
      "0.3377536\n",
      "0.3332763\n",
      "0.32929346\n",
      "0.32574847\n",
      "0.3225914\n",
      "0.31977805\n",
      "0.31726933\n",
      "0.31503046\n",
      "0.31303102\n",
      "0.31124383\n",
      "0.3096451\n",
      "0.30821356\n",
      "0.30693045\n",
      "0.3057792\n",
      "0.30474508\n",
      "0.30381513\n",
      "0.3029779\n",
      "0.3022231\n",
      "0.30154172\n",
      "0.3009258\n",
      "0.30036825\n",
      "0.29986268\n",
      "0.29940364\n",
      "0.2989861\n",
      "0.29860574\n",
      "0.29825872\n",
      "0.2979414\n",
      "0.2976509\n",
      "0.29738438\n",
      "0.29713944\n",
      "0.29691398\n",
      "0.29670602\n",
      "0.29651383\n",
      "0.296336\n",
      "0.29617104\n",
      "0.29601786\n",
      "0.29587528\n",
      "0.29574233\n",
      "0.29561824\n",
      "0.2955022\n",
      "0.29539344\n",
      "0.2952914\n",
      "0.29519555\n",
      "0.29510537\n",
      "0.29502037\n",
      "0.29494017\n",
      "0.29486445\n",
      "0.29479274\n",
      "0.2947249\n",
      "0.2946606\n",
      "0.29459953\n",
      "0.29454157\n",
      "0.29448646\n",
      "0.29443398\n",
      "0.294384\n",
      "0.2943364\n",
      "0.29429096\n",
      "0.29424763\n",
      "0.2942062\n",
      "0.29416662\n",
      "0.2941288\n",
      "0.2940926\n",
      "0.29405794\n",
      "0.29402477\n",
      "0.29399297\n",
      "0.29396248\n",
      "0.29393327\n",
      "0.29390523\n",
      "0.29387838\n",
      "0.2938526\n"
     ]
    }
   ],
   "source": [
    "# we create a session\n",
    "n_epochs = 100\n",
    "with tf.Session() as sess:\n",
    "    # here we tell tensorflow that  we want to initialize all the variables in the graph so we can use them\n",
    "    merged = tf.summary.merge_all()\n",
    "    writer = tf.summary.FileWriter(\"/tmp/tensorflowlogs\", sess.graph)\n",
    "    sess.run(tf.global_variables_initializer())\n",
    "    \n",
    "    #fit all training data\n",
    "    prev_training_cost = 0.0\n",
    "    for epoch_i in range(n_epochs):\n",
    "        for (x,y) in zip(xs, ys):\n",
    "            sess.run(optimizer,feed_dict={X:x, Y:y})\n",
    "        \n",
    "        training_cost = sess.run(cost,\n",
    "                                 feed_dict={X:xs, Y:ys})\n",
    "        \n",
    "        print(training_cost)\n",
    "        \n",
    "        if epoch_i % 20 == 0:\n",
    "            ax.plot(xs,\n",
    "                    y_pred.eval(feed_dict ={X:xs},\n",
    "                                session = sess),\n",
    "                    'k',\n",
    "                    alpha = epoch_i/n_epochs)\n",
    "            fig.show()\n",
    "            plt.draw()\n",
    "        \n",
    "        if np.abs(prev_training_cost - training_cost) < 0.000001:\n",
    "            break\n",
    "        prev_training_cost = training_cost\n",
    "        \n",
    "    writer.close()\n",
    "    \n",
    "#ax.set_ylim([-3, 3])\n",
    "fig.show()\n",
    "plt.waitforbuttonpress()"
   ]
  },
  {
   "cell_type": "code",
   "execution_count": null,
   "metadata": {},
   "outputs": [],
   "source": [
    " "
   ]
  }
 ],
 "metadata": {
  "kernelspec": {
   "display_name": "Python 3",
   "language": "python",
   "name": "python3"
  },
  "language_info": {
   "codemirror_mode": {
    "name": "ipython",
    "version": 3
   },
   "file_extension": ".py",
   "mimetype": "text/x-python",
   "name": "python",
   "nbconvert_exporter": "python",
   "pygments_lexer": "ipython3",
   "version": "3.6.8"
  }
 },
 "nbformat": 4,
 "nbformat_minor": 2
}
