{
 "cells": [
  {
   "cell_type": "code",
   "execution_count": 1,
   "metadata": {},
   "outputs": [],
   "source": [
    "# import library\n",
    "import re\n",
    "import string\n",
    "import nltk\n",
    "import warnings\n",
    "warnings.filterwarnings(\"ignore\", category = DeprecationWarning)\n",
    "\n",
    "# Data Manipulation\n",
    "import pandas as pd\n",
    "import numpy as np\n",
    "pd.set_option(\"display.max_columns\", None)\n",
    "\n",
    "# Visualization\n",
    "import matplotlib.pyplot as plt\n",
    "import seaborn as sns\n",
    "plt.style.use(\"ggplot\")\n",
    "%matplotlib inline\n"
   ]
  },
  {
   "cell_type": "code",
   "execution_count": 2,
   "metadata": {},
   "outputs": [],
   "source": [
    "# load data\n",
    "train_data = pd.read_csv('datasets/train.csv')\n",
    "test_data = pd.read_csv('datasets/test.csv')\n",
    "sample_data = pd.read_csv('datasets/sample_submission.csv')"
   ]
  },
  {
   "cell_type": "code",
   "execution_count": 3,
   "metadata": {},
   "outputs": [
    {
     "data": {
      "text/html": [
       "<div>\n",
       "<style scoped>\n",
       "    .dataframe tbody tr th:only-of-type {\n",
       "        vertical-align: middle;\n",
       "    }\n",
       "\n",
       "    .dataframe tbody tr th {\n",
       "        vertical-align: top;\n",
       "    }\n",
       "\n",
       "    .dataframe thead th {\n",
       "        text-align: right;\n",
       "    }\n",
       "</style>\n",
       "<table border=\"1\" class=\"dataframe\">\n",
       "  <thead>\n",
       "    <tr style=\"text-align: right;\">\n",
       "      <th></th>\n",
       "      <th>unique_hash</th>\n",
       "      <th>text</th>\n",
       "      <th>drug</th>\n",
       "      <th>sentiment</th>\n",
       "    </tr>\n",
       "  </thead>\n",
       "  <tbody>\n",
       "    <tr>\n",
       "      <th>0</th>\n",
       "      <td>2e180be4c9214c1f5ab51fd8cc32bc80c9f612e0</td>\n",
       "      <td>Autoimmune diseases tend to come in clusters. ...</td>\n",
       "      <td>gilenya</td>\n",
       "      <td>2</td>\n",
       "    </tr>\n",
       "    <tr>\n",
       "      <th>1</th>\n",
       "      <td>9eba8f80e7e20f3a2f48685530748fbfa95943e4</td>\n",
       "      <td>I can completely understand why you’d want to ...</td>\n",
       "      <td>gilenya</td>\n",
       "      <td>2</td>\n",
       "    </tr>\n",
       "    <tr>\n",
       "      <th>2</th>\n",
       "      <td>fe809672251f6bd0d986e00380f48d047c7e7b76</td>\n",
       "      <td>Interesting that it only targets S1P-1/5 recep...</td>\n",
       "      <td>fingolimod</td>\n",
       "      <td>2</td>\n",
       "    </tr>\n",
       "    <tr>\n",
       "      <th>3</th>\n",
       "      <td>bd22104dfa9ec80db4099523e03fae7a52735eb6</td>\n",
       "      <td>Very interesting, grand merci. Now I wonder wh...</td>\n",
       "      <td>ocrevus</td>\n",
       "      <td>2</td>\n",
       "    </tr>\n",
       "    <tr>\n",
       "      <th>4</th>\n",
       "      <td>b227688381f9b25e5b65109dd00f7f895e838249</td>\n",
       "      <td>Hi everybody, My latest MRI results for Brain ...</td>\n",
       "      <td>gilenya</td>\n",
       "      <td>1</td>\n",
       "    </tr>\n",
       "    <tr>\n",
       "      <th>5</th>\n",
       "      <td>a043780c757966243779bf3c0d11bf6eef721971</td>\n",
       "      <td>I can’t give you advice about Lemtrada because...</td>\n",
       "      <td>cladribine</td>\n",
       "      <td>2</td>\n",
       "    </tr>\n",
       "    <tr>\n",
       "      <th>6</th>\n",
       "      <td>be5a13376933a7f9bbf8e801c31691092f63260a</td>\n",
       "      <td>Reply posted for JessZidek. Hi Jess Sorry to r...</td>\n",
       "      <td>humira</td>\n",
       "      <td>0</td>\n",
       "    </tr>\n",
       "    <tr>\n",
       "      <th>7</th>\n",
       "      <td>08c3c0c702fc97d290204b37798ac62005da5626</td>\n",
       "      <td>Well as expected my Neurologist wants me to st...</td>\n",
       "      <td>gilenya</td>\n",
       "      <td>2</td>\n",
       "    </tr>\n",
       "    <tr>\n",
       "      <th>8</th>\n",
       "      <td>8fd3d7ad80791c9343e5cf8a83bd1adf6577d516</td>\n",
       "      <td>Why do you think that FIngolimod was such a mi...</td>\n",
       "      <td>fingolimod</td>\n",
       "      <td>1</td>\n",
       "    </tr>\n",
       "    <tr>\n",
       "      <th>9</th>\n",
       "      <td>793c5af7cc8332df17eb602247d886fbd1c80f89</td>\n",
       "      <td>Thank you so much…I’m learning a lot here at G...</td>\n",
       "      <td>tagrisso</td>\n",
       "      <td>2</td>\n",
       "    </tr>\n",
       "    <tr>\n",
       "      <th>10</th>\n",
       "      <td>127a56fe52ebb4ac4bd7c44882b38c90b309b0d1</td>\n",
       "      <td>I have no vision in one eye, unrelated to my e...</td>\n",
       "      <td>lucentis</td>\n",
       "      <td>1</td>\n",
       "    </tr>\n",
       "    <tr>\n",
       "      <th>11</th>\n",
       "      <td>c012af0fb7ffdbd0cf26564666f344f136bde78f</td>\n",
       "      <td>There is significant bleeding in the right eye...</td>\n",
       "      <td>pan-retinal photocoagulation</td>\n",
       "      <td>2</td>\n",
       "    </tr>\n",
       "    <tr>\n",
       "      <th>12</th>\n",
       "      <td>9e7ba64f3370ad7b6214677051ad542c45a667bb</td>\n",
       "      <td>Objective To review the evidence supporting th...</td>\n",
       "      <td>fingolimod</td>\n",
       "      <td>2</td>\n",
       "    </tr>\n",
       "    <tr>\n",
       "      <th>13</th>\n",
       "      <td>497b861718dcea8618daa71fff8ccdeff2e5b161</td>\n",
       "      <td>Multiple sclerosis (MS) can be thought of as a...</td>\n",
       "      <td>gilenya</td>\n",
       "      <td>2</td>\n",
       "    </tr>\n",
       "    <tr>\n",
       "      <th>14</th>\n",
       "      <td>4448be865036bcb6154ca03a3b101ea3a9ba4dac</td>\n",
       "      <td>Your Mom’s diagnosis is similar to my own. Min...</td>\n",
       "      <td>tagrisso</td>\n",
       "      <td>2</td>\n",
       "    </tr>\n",
       "    <tr>\n",
       "      <th>15</th>\n",
       "      <td>aa8baf1777c68498006a91e2dde76cea8d481f23</td>\n",
       "      <td>Humira ( adalimumab ) is an injectable protein...</td>\n",
       "      <td>humira</td>\n",
       "      <td>2</td>\n",
       "    </tr>\n",
       "    <tr>\n",
       "      <th>16</th>\n",
       "      <td>abbe2c5ec2d09c903eea188d56dd1f0ccfa2be5c</td>\n",
       "      <td>Well the theory your GI is telling you is very...</td>\n",
       "      <td>remicade</td>\n",
       "      <td>2</td>\n",
       "    </tr>\n",
       "    <tr>\n",
       "      <th>17</th>\n",
       "      <td>fb054b0af1d68a71577430858e6dbe4162d269b3</td>\n",
       "      <td>My goodness Minnie. I really wish you could us...</td>\n",
       "      <td>stelara</td>\n",
       "      <td>2</td>\n",
       "    </tr>\n",
       "    <tr>\n",
       "      <th>18</th>\n",
       "      <td>81d3b59febf33f7099315d8a06402a84a4083113</td>\n",
       "      <td>Sebastian - agreed entirely. We know more abou...</td>\n",
       "      <td>ocrelizumab</td>\n",
       "      <td>2</td>\n",
       "    </tr>\n",
       "    <tr>\n",
       "      <th>19</th>\n",
       "      <td>ac44c2e8ed91882149e8341b294b5e5d14bfb6b2</td>\n",
       "      <td>Good luck Reg. A few days ago i went to listen...</td>\n",
       "      <td>ocrevus</td>\n",
       "      <td>2</td>\n",
       "    </tr>\n",
       "  </tbody>\n",
       "</table>\n",
       "</div>"
      ],
      "text/plain": [
       "                                 unique_hash  \\\n",
       "0   2e180be4c9214c1f5ab51fd8cc32bc80c9f612e0   \n",
       "1   9eba8f80e7e20f3a2f48685530748fbfa95943e4   \n",
       "2   fe809672251f6bd0d986e00380f48d047c7e7b76   \n",
       "3   bd22104dfa9ec80db4099523e03fae7a52735eb6   \n",
       "4   b227688381f9b25e5b65109dd00f7f895e838249   \n",
       "5   a043780c757966243779bf3c0d11bf6eef721971   \n",
       "6   be5a13376933a7f9bbf8e801c31691092f63260a   \n",
       "7   08c3c0c702fc97d290204b37798ac62005da5626   \n",
       "8   8fd3d7ad80791c9343e5cf8a83bd1adf6577d516   \n",
       "9   793c5af7cc8332df17eb602247d886fbd1c80f89   \n",
       "10  127a56fe52ebb4ac4bd7c44882b38c90b309b0d1   \n",
       "11  c012af0fb7ffdbd0cf26564666f344f136bde78f   \n",
       "12  9e7ba64f3370ad7b6214677051ad542c45a667bb   \n",
       "13  497b861718dcea8618daa71fff8ccdeff2e5b161   \n",
       "14  4448be865036bcb6154ca03a3b101ea3a9ba4dac   \n",
       "15  aa8baf1777c68498006a91e2dde76cea8d481f23   \n",
       "16  abbe2c5ec2d09c903eea188d56dd1f0ccfa2be5c   \n",
       "17  fb054b0af1d68a71577430858e6dbe4162d269b3   \n",
       "18  81d3b59febf33f7099315d8a06402a84a4083113   \n",
       "19  ac44c2e8ed91882149e8341b294b5e5d14bfb6b2   \n",
       "\n",
       "                                                 text  \\\n",
       "0   Autoimmune diseases tend to come in clusters. ...   \n",
       "1   I can completely understand why you’d want to ...   \n",
       "2   Interesting that it only targets S1P-1/5 recep...   \n",
       "3   Very interesting, grand merci. Now I wonder wh...   \n",
       "4   Hi everybody, My latest MRI results for Brain ...   \n",
       "5   I can’t give you advice about Lemtrada because...   \n",
       "6   Reply posted for JessZidek. Hi Jess Sorry to r...   \n",
       "7   Well as expected my Neurologist wants me to st...   \n",
       "8   Why do you think that FIngolimod was such a mi...   \n",
       "9   Thank you so much…I’m learning a lot here at G...   \n",
       "10  I have no vision in one eye, unrelated to my e...   \n",
       "11  There is significant bleeding in the right eye...   \n",
       "12  Objective To review the evidence supporting th...   \n",
       "13  Multiple sclerosis (MS) can be thought of as a...   \n",
       "14  Your Mom’s diagnosis is similar to my own. Min...   \n",
       "15  Humira ( adalimumab ) is an injectable protein...   \n",
       "16  Well the theory your GI is telling you is very...   \n",
       "17  My goodness Minnie. I really wish you could us...   \n",
       "18  Sebastian - agreed entirely. We know more abou...   \n",
       "19  Good luck Reg. A few days ago i went to listen...   \n",
       "\n",
       "                            drug  sentiment  \n",
       "0                        gilenya          2  \n",
       "1                        gilenya          2  \n",
       "2                     fingolimod          2  \n",
       "3                        ocrevus          2  \n",
       "4                        gilenya          1  \n",
       "5                     cladribine          2  \n",
       "6                         humira          0  \n",
       "7                        gilenya          2  \n",
       "8                     fingolimod          1  \n",
       "9                       tagrisso          2  \n",
       "10                      lucentis          1  \n",
       "11  pan-retinal photocoagulation          2  \n",
       "12                    fingolimod          2  \n",
       "13                       gilenya          2  \n",
       "14                      tagrisso          2  \n",
       "15                        humira          2  \n",
       "16                      remicade          2  \n",
       "17                       stelara          2  \n",
       "18                   ocrelizumab          2  \n",
       "19                       ocrevus          2  "
      ]
     },
     "execution_count": 3,
     "metadata": {},
     "output_type": "execute_result"
    }
   ],
   "source": [
    "train_data.head(20)"
   ]
  },
  {
   "cell_type": "code",
   "execution_count": 4,
   "metadata": {},
   "outputs": [
    {
     "data": {
      "text/html": [
       "<div>\n",
       "<style scoped>\n",
       "    .dataframe tbody tr th:only-of-type {\n",
       "        vertical-align: middle;\n",
       "    }\n",
       "\n",
       "    .dataframe tbody tr th {\n",
       "        vertical-align: top;\n",
       "    }\n",
       "\n",
       "    .dataframe thead th {\n",
       "        text-align: right;\n",
       "    }\n",
       "</style>\n",
       "<table border=\"1\" class=\"dataframe\">\n",
       "  <thead>\n",
       "    <tr style=\"text-align: right;\">\n",
       "      <th></th>\n",
       "      <th>unique_hash</th>\n",
       "      <th>text</th>\n",
       "      <th>drug</th>\n",
       "    </tr>\n",
       "  </thead>\n",
       "  <tbody>\n",
       "    <tr>\n",
       "      <th>0</th>\n",
       "      <td>9e9a8166b84114aca147bf409f6f956635034c08</td>\n",
       "      <td>256 (previously stable on natalizumab), with 5...</td>\n",
       "      <td>fingolimod</td>\n",
       "    </tr>\n",
       "    <tr>\n",
       "      <th>1</th>\n",
       "      <td>e747e6822c867571afe7b907b51f0f2ca67b0e1a</td>\n",
       "      <td>On fingolimod and have been since December 201...</td>\n",
       "      <td>fingolimod</td>\n",
       "    </tr>\n",
       "    <tr>\n",
       "      <th>2</th>\n",
       "      <td>50b6d851bcff4f35afe354937949e9948975adf7</td>\n",
       "      <td>Apparently it's shingles! :-/ I do have a few ...</td>\n",
       "      <td>humira</td>\n",
       "    </tr>\n",
       "    <tr>\n",
       "      <th>3</th>\n",
       "      <td>7f82ec2176ae6ab0b5d20b5ffc767ac829f384ae</td>\n",
       "      <td>If the Docetaxel doing once a week x3 weeks th...</td>\n",
       "      <td>tagrisso</td>\n",
       "    </tr>\n",
       "    <tr>\n",
       "      <th>4</th>\n",
       "      <td>8b37d169dee5bdae27060949242fb54feb6a7f7f</td>\n",
       "      <td>CC, Stelara worked in a matter of days for me....</td>\n",
       "      <td>stelara</td>\n",
       "    </tr>\n",
       "  </tbody>\n",
       "</table>\n",
       "</div>"
      ],
      "text/plain": [
       "                                unique_hash  \\\n",
       "0  9e9a8166b84114aca147bf409f6f956635034c08   \n",
       "1  e747e6822c867571afe7b907b51f0f2ca67b0e1a   \n",
       "2  50b6d851bcff4f35afe354937949e9948975adf7   \n",
       "3  7f82ec2176ae6ab0b5d20b5ffc767ac829f384ae   \n",
       "4  8b37d169dee5bdae27060949242fb54feb6a7f7f   \n",
       "\n",
       "                                                text        drug  \n",
       "0  256 (previously stable on natalizumab), with 5...  fingolimod  \n",
       "1  On fingolimod and have been since December 201...  fingolimod  \n",
       "2  Apparently it's shingles! :-/ I do have a few ...      humira  \n",
       "3  If the Docetaxel doing once a week x3 weeks th...    tagrisso  \n",
       "4  CC, Stelara worked in a matter of days for me....     stelara  "
      ]
     },
     "execution_count": 4,
     "metadata": {},
     "output_type": "execute_result"
    }
   ],
   "source": [
    "test_data.head()"
   ]
  },
  {
   "cell_type": "code",
   "execution_count": 5,
   "metadata": {},
   "outputs": [
    {
     "data": {
      "text/html": [
       "<div>\n",
       "<style scoped>\n",
       "    .dataframe tbody tr th:only-of-type {\n",
       "        vertical-align: middle;\n",
       "    }\n",
       "\n",
       "    .dataframe tbody tr th {\n",
       "        vertical-align: top;\n",
       "    }\n",
       "\n",
       "    .dataframe thead th {\n",
       "        text-align: right;\n",
       "    }\n",
       "</style>\n",
       "<table border=\"1\" class=\"dataframe\">\n",
       "  <thead>\n",
       "    <tr style=\"text-align: right;\">\n",
       "      <th></th>\n",
       "      <th>unique_hash</th>\n",
       "      <th>sentiment</th>\n",
       "    </tr>\n",
       "  </thead>\n",
       "  <tbody>\n",
       "    <tr>\n",
       "      <th>0</th>\n",
       "      <td>9e9a8166b84114aca147bf409f6f956635034c08</td>\n",
       "      <td>0</td>\n",
       "    </tr>\n",
       "    <tr>\n",
       "      <th>1</th>\n",
       "      <td>e747e6822c867571afe7b907b51f0f2ca67b0e1a</td>\n",
       "      <td>0</td>\n",
       "    </tr>\n",
       "    <tr>\n",
       "      <th>2</th>\n",
       "      <td>50b6d851bcff4f35afe354937949e9948975adf7</td>\n",
       "      <td>0</td>\n",
       "    </tr>\n",
       "    <tr>\n",
       "      <th>3</th>\n",
       "      <td>7f82ec2176ae6ab0b5d20b5ffc767ac829f384ae</td>\n",
       "      <td>0</td>\n",
       "    </tr>\n",
       "    <tr>\n",
       "      <th>4</th>\n",
       "      <td>8b37d169dee5bdae27060949242fb54feb6a7f7f</td>\n",
       "      <td>0</td>\n",
       "    </tr>\n",
       "  </tbody>\n",
       "</table>\n",
       "</div>"
      ],
      "text/plain": [
       "                                unique_hash  sentiment\n",
       "0  9e9a8166b84114aca147bf409f6f956635034c08          0\n",
       "1  e747e6822c867571afe7b907b51f0f2ca67b0e1a          0\n",
       "2  50b6d851bcff4f35afe354937949e9948975adf7          0\n",
       "3  7f82ec2176ae6ab0b5d20b5ffc767ac829f384ae          0\n",
       "4  8b37d169dee5bdae27060949242fb54feb6a7f7f          0"
      ]
     },
     "execution_count": 5,
     "metadata": {},
     "output_type": "execute_result"
    }
   ],
   "source": [
    "sample_data.head()"
   ]
  },
  {
   "cell_type": "code",
   "execution_count": 6,
   "metadata": {},
   "outputs": [
    {
     "data": {
      "text/plain": [
       "'Autoimmune diseases tend to come in clusters. As for Gilenya – if you feel good, don’t think about it, it won’t change anything but waste your time and energy. I’m taking Tysabri and feel amazing, no symptoms (other than dodgy color vision, but I’ve had it since always, so, don’t know) and I don’t know if it will last a month, a year, a decade, ive just decided to enjoy the ride, no point in worrying.'"
      ]
     },
     "execution_count": 6,
     "metadata": {},
     "output_type": "execute_result"
    }
   ],
   "source": [
    "train_data.text[0]"
   ]
  },
  {
   "cell_type": "code",
   "execution_count": 7,
   "metadata": {},
   "outputs": [
    {
     "data": {
      "text/plain": [
       "'BMC Ophthalmol. 2019 Jan 8;19(1):8. Intravitreal dexamethasone implants versus intravitreal anti-VEGF treatment in treating patients with retinal vein occlusion: a meta-analysis. Gao L et al. Background : Retinal vein occlusion (RVO) is a common retinal venous disorder that causes vision loss. No specific therapy has been developed. Controversy exists regarding two treatments: intravitreal dexamethasone implants and anti-vascular endothelial growth factor (VEGF). The goal of this study is to compare the effectiveness and safety of dexamethasone implants and anti-VEGF treatment for RVO. Methods : The PubMed, Embase, and Cochrane Library databases were searched for studies comparing dexamethasone implants with anti-VEGF in patients with RVO. Best-corrected visual acuity (BCVA), central subfield thickness (CST), intraocular pressure changes, conjunctival haemorrhage, reduced VA, and macular oedema were extracted from the final included studies. RevMan 5.3 was used to conduct the quantitative analysis and bias assessment. Results : Four randomised controlled trials assessing 969 eyes were included. The anti-VEGF treatment showed better BCVA improvement (mean difference [MD] = - 10.59, P < 0.00001) and more CST decrease (MD = - 86.71 μm, P = 0.02) than the dexamethasone implants. However, the dexamethasone implants required fewer injections. As for adverse effects, the dexamethasone implants showed significantly higher intraocular pressure (IOP) and more cataracts than the anti-VEGF treatment. No significant differences were found in conjunctival haemorrhage, reduced VA, and macular oedema. Conclusion : Anti-VEGF treatment showed better functional and anatomical improvement with less risk of IOP elevation and cataract formation compared to dexamethasone implants. Thus, anti-VEGF treatment is the first choice for treating RVO patients. PMID: 30621640 PMCID: PMC6325672 DOI: 10.1186/s12886-018-1016-7'"
      ]
     },
     "execution_count": 7,
     "metadata": {},
     "output_type": "execute_result"
    }
   ],
   "source": [
    "train_data.text[20]"
   ]
  },
  {
   "cell_type": "code",
   "execution_count": 8,
   "metadata": {},
   "outputs": [
    {
     "data": {
      "text/plain": [
       "(5279, 4)"
      ]
     },
     "execution_count": 8,
     "metadata": {},
     "output_type": "execute_result"
    }
   ],
   "source": [
    "train_data.shape"
   ]
  },
  {
   "cell_type": "code",
   "execution_count": 9,
   "metadata": {},
   "outputs": [
    {
     "data": {
      "text/plain": [
       "(2924, 3)"
      ]
     },
     "execution_count": 9,
     "metadata": {},
     "output_type": "execute_result"
    }
   ],
   "source": [
    "test_data.shape"
   ]
  },
  {
   "cell_type": "code",
   "execution_count": 10,
   "metadata": {},
   "outputs": [],
   "source": [
    "# join train & test data for convenience\n",
    "data_raw = train_data.append(test_data, ignore_index = True, sort = False)"
   ]
  },
  {
   "cell_type": "code",
   "execution_count": 11,
   "metadata": {},
   "outputs": [
    {
     "data": {
      "text/html": [
       "<div>\n",
       "<style scoped>\n",
       "    .dataframe tbody tr th:only-of-type {\n",
       "        vertical-align: middle;\n",
       "    }\n",
       "\n",
       "    .dataframe tbody tr th {\n",
       "        vertical-align: top;\n",
       "    }\n",
       "\n",
       "    .dataframe thead th {\n",
       "        text-align: right;\n",
       "    }\n",
       "</style>\n",
       "<table border=\"1\" class=\"dataframe\">\n",
       "  <thead>\n",
       "    <tr style=\"text-align: right;\">\n",
       "      <th></th>\n",
       "      <th>unique_hash</th>\n",
       "      <th>text</th>\n",
       "      <th>drug</th>\n",
       "      <th>sentiment</th>\n",
       "    </tr>\n",
       "  </thead>\n",
       "  <tbody>\n",
       "    <tr>\n",
       "      <th>0</th>\n",
       "      <td>2e180be4c9214c1f5ab51fd8cc32bc80c9f612e0</td>\n",
       "      <td>Autoimmune diseases tend to come in clusters. ...</td>\n",
       "      <td>gilenya</td>\n",
       "      <td>2.0</td>\n",
       "    </tr>\n",
       "    <tr>\n",
       "      <th>1</th>\n",
       "      <td>9eba8f80e7e20f3a2f48685530748fbfa95943e4</td>\n",
       "      <td>I can completely understand why you’d want to ...</td>\n",
       "      <td>gilenya</td>\n",
       "      <td>2.0</td>\n",
       "    </tr>\n",
       "    <tr>\n",
       "      <th>2</th>\n",
       "      <td>fe809672251f6bd0d986e00380f48d047c7e7b76</td>\n",
       "      <td>Interesting that it only targets S1P-1/5 recep...</td>\n",
       "      <td>fingolimod</td>\n",
       "      <td>2.0</td>\n",
       "    </tr>\n",
       "    <tr>\n",
       "      <th>3</th>\n",
       "      <td>bd22104dfa9ec80db4099523e03fae7a52735eb6</td>\n",
       "      <td>Very interesting, grand merci. Now I wonder wh...</td>\n",
       "      <td>ocrevus</td>\n",
       "      <td>2.0</td>\n",
       "    </tr>\n",
       "    <tr>\n",
       "      <th>4</th>\n",
       "      <td>b227688381f9b25e5b65109dd00f7f895e838249</td>\n",
       "      <td>Hi everybody, My latest MRI results for Brain ...</td>\n",
       "      <td>gilenya</td>\n",
       "      <td>1.0</td>\n",
       "    </tr>\n",
       "  </tbody>\n",
       "</table>\n",
       "</div>"
      ],
      "text/plain": [
       "                                unique_hash  \\\n",
       "0  2e180be4c9214c1f5ab51fd8cc32bc80c9f612e0   \n",
       "1  9eba8f80e7e20f3a2f48685530748fbfa95943e4   \n",
       "2  fe809672251f6bd0d986e00380f48d047c7e7b76   \n",
       "3  bd22104dfa9ec80db4099523e03fae7a52735eb6   \n",
       "4  b227688381f9b25e5b65109dd00f7f895e838249   \n",
       "\n",
       "                                                text        drug  sentiment  \n",
       "0  Autoimmune diseases tend to come in clusters. ...     gilenya        2.0  \n",
       "1  I can completely understand why you’d want to ...     gilenya        2.0  \n",
       "2  Interesting that it only targets S1P-1/5 recep...  fingolimod        2.0  \n",
       "3  Very interesting, grand merci. Now I wonder wh...     ocrevus        2.0  \n",
       "4  Hi everybody, My latest MRI results for Brain ...     gilenya        1.0  "
      ]
     },
     "execution_count": 11,
     "metadata": {},
     "output_type": "execute_result"
    }
   ],
   "source": [
    "data_raw.head()"
   ]
  },
  {
   "cell_type": "code",
   "execution_count": 12,
   "metadata": {},
   "outputs": [
    {
     "data": {
      "text/plain": [
       "(8203, 4)"
      ]
     },
     "execution_count": 12,
     "metadata": {},
     "output_type": "execute_result"
    }
   ],
   "source": [
    "data_raw.shape"
   ]
  },
  {
   "cell_type": "code",
   "execution_count": 13,
   "metadata": {},
   "outputs": [
    {
     "data": {
      "text/plain": [
       "0       gilenya\n",
       "1       gilenya\n",
       "2    fingolimod\n",
       "3       ocrevus\n",
       "4       gilenya\n",
       "Name: drug, dtype: object"
      ]
     },
     "execution_count": 13,
     "metadata": {},
     "output_type": "execute_result"
    }
   ],
   "source": [
    "data_raw.drug.head()"
   ]
  },
  {
   "cell_type": "code",
   "execution_count": 14,
   "metadata": {},
   "outputs": [
    {
     "data": {
      "text/plain": [
       "ocrevus                         978\n",
       "gilenya                         977\n",
       "ocrelizumab                     602\n",
       "entyvio                         486\n",
       "humira                          458\n",
       "remicade                        403\n",
       "opdivo                          354\n",
       "tarceva                         344\n",
       "fingolimod                      343\n",
       "keytruda                        314\n",
       "cladribine                      300\n",
       "tagrisso                        286\n",
       "stelara                         267\n",
       "alimta                          229\n",
       "lucentis                        114\n",
       "eylea                            98\n",
       "cimzia                           86\n",
       "avastin                          83\n",
       "nivolumab                        73\n",
       "simponi                          66\n",
       "crizotinib                       66\n",
       "vitrectomy                       64\n",
       "alectinib                        62\n",
       "erlotinib                        61\n",
       "tecentriq                        51\n",
       "pembrolizumab                    50\n",
       "osimertinib                      48\n",
       "xalkori                          48\n",
       "mavenclad                        47\n",
       "durvalumab                       47\n",
       "                               ... \n",
       "brolucizumab                      3\n",
       "portrazza                         2\n",
       "movectro                          2\n",
       "amjevita                          2\n",
       "stellara                          2\n",
       "pan-retinal photocoagulation      2\n",
       "pegaptanib                        2\n",
       "duvalumab                         2\n",
       "pf-00547659                       2\n",
       "risankizumab                      2\n",
       "elotinib                          1\n",
       "pemetrexed disodium               1\n",
       "alunbrig                          1\n",
       "osmertinib                        1\n",
       "giotrif                           1\n",
       "flixabi                           1\n",
       "alitma                            1\n",
       "afainib                           1\n",
       "ketruda                           1\n",
       "rhumab 2h7                        1\n",
       "guselkumab                        1\n",
       "crizotnib                         1\n",
       "alectnib                          1\n",
       "etrolizumab                       1\n",
       "filgotinib                        1\n",
       "nivolumabb                        1\n",
       "geftinib                          1\n",
       "cyramza                           1\n",
       "infliximab-dyyb                   1\n",
       "ct-p13                            1\n",
       "Name: drug, Length: 111, dtype: int64"
      ]
     },
     "execution_count": 14,
     "metadata": {},
     "output_type": "execute_result"
    }
   ],
   "source": [
    "data_raw.drug.value_counts()"
   ]
  },
  {
   "cell_type": "code",
   "execution_count": 15,
   "metadata": {},
   "outputs": [
    {
     "data": {
      "text/plain": [
       "unique_hash    0\n",
       "text           0\n",
       "drug           0\n",
       "sentiment      0\n",
       "dtype: int64"
      ]
     },
     "execution_count": 15,
     "metadata": {},
     "output_type": "execute_result"
    }
   ],
   "source": [
    "train_data.isnull().sum()"
   ]
  },
  {
   "cell_type": "code",
   "execution_count": 16,
   "metadata": {},
   "outputs": [
    {
     "data": {
      "text/plain": [
       "unique_hash    0\n",
       "text           0\n",
       "drug           0\n",
       "dtype: int64"
      ]
     },
     "execution_count": 16,
     "metadata": {},
     "output_type": "execute_result"
    }
   ],
   "source": [
    "test_data.isnull().sum()"
   ]
  },
  {
   "cell_type": "code",
   "execution_count": 38,
   "metadata": {},
   "outputs": [],
   "source": [
    "data_raw['tidy_text'] = data_raw['text'].str.replace(\"[^a-zA-Z#]\",\" \")"
   ]
  },
  {
   "cell_type": "code",
   "execution_count": 39,
   "metadata": {},
   "outputs": [],
   "source": [
    "data_raw['tidy_text'] = data_raw['tidy_text'].apply(lambda x: ' '.join([w for w in x.split() if len(w) > 3]))"
   ]
  },
  {
   "cell_type": "code",
   "execution_count": 40,
   "metadata": {},
   "outputs": [
    {
     "data": {
      "text/html": [
       "<div>\n",
       "<style scoped>\n",
       "    .dataframe tbody tr th:only-of-type {\n",
       "        vertical-align: middle;\n",
       "    }\n",
       "\n",
       "    .dataframe tbody tr th {\n",
       "        vertical-align: top;\n",
       "    }\n",
       "\n",
       "    .dataframe thead th {\n",
       "        text-align: right;\n",
       "    }\n",
       "</style>\n",
       "<table border=\"1\" class=\"dataframe\">\n",
       "  <thead>\n",
       "    <tr style=\"text-align: right;\">\n",
       "      <th></th>\n",
       "      <th>unique_hash</th>\n",
       "      <th>text</th>\n",
       "      <th>drug</th>\n",
       "      <th>sentiment</th>\n",
       "      <th>tidy_text</th>\n",
       "    </tr>\n",
       "  </thead>\n",
       "  <tbody>\n",
       "    <tr>\n",
       "      <th>0</th>\n",
       "      <td>2e180be4c9214c1f5ab51fd8cc32bc80c9f612e0</td>\n",
       "      <td>Autoimmune diseases tend to come in clusters. ...</td>\n",
       "      <td>gilenya</td>\n",
       "      <td>2.0</td>\n",
       "      <td>Autoimmune diseases tend come clusters Gilenya...</td>\n",
       "    </tr>\n",
       "    <tr>\n",
       "      <th>1</th>\n",
       "      <td>9eba8f80e7e20f3a2f48685530748fbfa95943e4</td>\n",
       "      <td>I can completely understand why you’d want to ...</td>\n",
       "      <td>gilenya</td>\n",
       "      <td>2.0</td>\n",
       "      <td>completely understand want results reported le...</td>\n",
       "    </tr>\n",
       "    <tr>\n",
       "      <th>2</th>\n",
       "      <td>fe809672251f6bd0d986e00380f48d047c7e7b76</td>\n",
       "      <td>Interesting that it only targets S1P-1/5 recep...</td>\n",
       "      <td>fingolimod</td>\n",
       "      <td>2.0</td>\n",
       "      <td>Interesting that only targets receptors rather...</td>\n",
       "    </tr>\n",
       "    <tr>\n",
       "      <th>3</th>\n",
       "      <td>bd22104dfa9ec80db4099523e03fae7a52735eb6</td>\n",
       "      <td>Very interesting, grand merci. Now I wonder wh...</td>\n",
       "      <td>ocrevus</td>\n",
       "      <td>2.0</td>\n",
       "      <td>Very interesting grand merci wonder where lemt...</td>\n",
       "    </tr>\n",
       "    <tr>\n",
       "      <th>4</th>\n",
       "      <td>b227688381f9b25e5b65109dd00f7f895e838249</td>\n",
       "      <td>Hi everybody, My latest MRI results for Brain ...</td>\n",
       "      <td>gilenya</td>\n",
       "      <td>1.0</td>\n",
       "      <td>everybody latest results Brain Cervical Cord n...</td>\n",
       "    </tr>\n",
       "  </tbody>\n",
       "</table>\n",
       "</div>"
      ],
      "text/plain": [
       "                                unique_hash  \\\n",
       "0  2e180be4c9214c1f5ab51fd8cc32bc80c9f612e0   \n",
       "1  9eba8f80e7e20f3a2f48685530748fbfa95943e4   \n",
       "2  fe809672251f6bd0d986e00380f48d047c7e7b76   \n",
       "3  bd22104dfa9ec80db4099523e03fae7a52735eb6   \n",
       "4  b227688381f9b25e5b65109dd00f7f895e838249   \n",
       "\n",
       "                                                text        drug  sentiment  \\\n",
       "0  Autoimmune diseases tend to come in clusters. ...     gilenya        2.0   \n",
       "1  I can completely understand why you’d want to ...     gilenya        2.0   \n",
       "2  Interesting that it only targets S1P-1/5 recep...  fingolimod        2.0   \n",
       "3  Very interesting, grand merci. Now I wonder wh...     ocrevus        2.0   \n",
       "4  Hi everybody, My latest MRI results for Brain ...     gilenya        1.0   \n",
       "\n",
       "                                           tidy_text  \n",
       "0  Autoimmune diseases tend come clusters Gilenya...  \n",
       "1  completely understand want results reported le...  \n",
       "2  Interesting that only targets receptors rather...  \n",
       "3  Very interesting grand merci wonder where lemt...  \n",
       "4  everybody latest results Brain Cervical Cord n...  "
      ]
     },
     "execution_count": 40,
     "metadata": {},
     "output_type": "execute_result"
    }
   ],
   "source": [
    "data_raw.head()"
   ]
  },
  {
   "cell_type": "code",
   "execution_count": 41,
   "metadata": {},
   "outputs": [],
   "source": [
    "tokenized_text = data_raw['tidy_text'].apply(lambda x:x.split())"
   ]
  },
  {
   "cell_type": "code",
   "execution_count": 42,
   "metadata": {},
   "outputs": [
    {
     "data": {
      "text/plain": [
       "0    [Autoimmune, diseases, tend, come, clusters, G...\n",
       "1    [completely, understand, want, results, report...\n",
       "2    [Interesting, that, only, targets, receptors, ...\n",
       "3    [Very, interesting, grand, merci, wonder, wher...\n",
       "4    [everybody, latest, results, Brain, Cervical, ...\n",
       "Name: tidy_text, dtype: object"
      ]
     },
     "execution_count": 42,
     "metadata": {},
     "output_type": "execute_result"
    }
   ],
   "source": [
    "tokenized_text.head()"
   ]
  },
  {
   "cell_type": "code",
   "execution_count": null,
   "metadata": {},
   "outputs": [],
   "source": [
    "from nltk.stem.porter import *\n",
    "stemmer = PorterStemmer()\n",
    "tokenized_text = tokenized_text.apply(lambda x: [stemmer.stem(i) for i in x])"
   ]
  },
  {
   "cell_type": "code",
   "execution_count": 26,
   "metadata": {},
   "outputs": [
    {
     "data": {
      "text/plain": [
       "0    [autoimmunediseasestendtocomeinclustersasforgi...\n",
       "1    [icancompletelyunderstandwhyyoudwanttotryitbut...\n",
       "2    [interestingthatitonlytargetsspreceptorsrather...\n",
       "3    [veryinterestinggrandmercinowiwonderwherelemtr...\n",
       "4    [hieverybodymylatestmriresultsforbrainandcervi...\n",
       "Name: tidy_text, dtype: object"
      ]
     },
     "execution_count": 26,
     "metadata": {},
     "output_type": "execute_result"
    }
   ],
   "source": [
    "tokenized_text.head()"
   ]
  },
  {
   "cell_type": "code",
   "execution_count": 27,
   "metadata": {},
   "outputs": [],
   "source": [
    "for i in range(len(tokenized_text)):\n",
    "    tokenized_text[i] = ''.join(tokenized_text[i])\n",
    "data_raw['tidy_text'] = tokenized_text"
   ]
  },
  {
   "cell_type": "code",
   "execution_count": 28,
   "metadata": {},
   "outputs": [
    {
     "data": {
      "text/plain": [
       "0    autoimmunediseasestendtocomeinclustersasforgil...\n",
       "1    icancompletelyunderstandwhyyoudwanttotryitbutr...\n",
       "2    interestingthatitonlytargetsspreceptorsrathert...\n",
       "3    veryinterestinggrandmercinowiwonderwherelemtra...\n",
       "4    hieverybodymylatestmriresultsforbrainandcervic...\n",
       "Name: tidy_text, dtype: object"
      ]
     },
     "execution_count": 28,
     "metadata": {},
     "output_type": "execute_result"
    }
   ],
   "source": [
    "data_raw['tidy_text'].head()"
   ]
  },
  {
   "cell_type": "code",
   "execution_count": null,
   "metadata": {},
   "outputs": [],
   "source": []
  }
 ],
 "metadata": {
  "kernelspec": {
   "display_name": "Python 3",
   "language": "python",
   "name": "python3"
  },
  "language_info": {
   "codemirror_mode": {
    "name": "ipython",
    "version": 3
   },
   "file_extension": ".py",
   "mimetype": "text/x-python",
   "name": "python",
   "nbconvert_exporter": "python",
   "pygments_lexer": "ipython3",
   "version": "3.6.8"
  }
 },
 "nbformat": 4,
 "nbformat_minor": 2
}
